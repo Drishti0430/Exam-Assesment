{
 "cells": [
  {
   "cell_type": "markdown",
   "id": "6582ceb4",
   "metadata": {},
   "source": [
    "<img src=\"https://essayfreelancewriters.com/wp-content/uploads/Open-Book-Exam.jpg\" alt=\"Alt text\" style=\"width:300px;\"/>"
   ]
  },
  {
   "cell_type": "markdown",
   "id": "fc95ac37",
   "metadata": {},
   "source": [
    "# Open Book Exam: Python Libraries - NumPy, Pandas, and Matplotlib "
   ]
  },
  {
   "cell_type": "markdown",
   "id": "e21ce454",
   "metadata": {},
   "source": [
    "## Scenario/Problem Statement \n",
    "<u>As part of your Data Science coursework, you have to create a dataset that contains information about daily temperatures, humidity levels, and air quality index (AQI) readings in a fictional city over the past year. The dataset, stored in a CSV file named city_weather.csv, has the following columns:</u> \n",
    "- Date: The date of the record (in YYYY-MM-DD format). \n",
    "- Temperature: The daily average temperature in degrees Celsius. \n",
    "- Humidity: The daily average humidity percentage. \n",
    "- AQI: The daily average air quality index. "
   ]
  },
  {
   "cell_type": "code",
   "execution_count": 1,
   "id": "10caeaac",
   "metadata": {},
   "outputs": [],
   "source": [
    "import pandas as pd\n",
    "import numpy as np"
   ]
  },
  {
   "cell_type": "code",
   "execution_count": 13,
   "id": "568a3110",
   "metadata": {},
   "outputs": [],
   "source": [
    "dates= pd.date_range(start=\"2024-07-01\", end=\"2024-07-15\")"
   ]
  },
  {
   "cell_type": "code",
   "execution_count": 14,
   "id": "09755ba5",
   "metadata": {},
   "outputs": [],
   "source": [
    "# Generate random data for temperatures, humidity, and AQI\n",
    "np.random.seed(0)\n",
    "temperatures = np.random.normal(loc=15, scale=5, size=len(dates))  \n",
    "humidity = np.random.uniform(low=20, high=80, size=len(dates))    \n",
    "aqi = np.random.uniform(low=40, high=100, size=len(dates)) "
   ]
  },
  {
   "cell_type": "code",
   "execution_count": 15,
   "id": "f04091bc",
   "metadata": {},
   "outputs": [],
   "source": [
    "# Create a DataFrame\n",
    "df = pd.DataFrame({\n",
    "    \"Date\": dates,\n",
    "    \"Temperature\": temperatures,\n",
    "    \"Humidity\": humidity,\n",
    "    \"AQI\": aqi\n",
    "})"
   ]
  },
  {
   "cell_type": "code",
   "execution_count": 19,
   "id": "d7155864",
   "metadata": {},
   "outputs": [
    {
     "name": "stdout",
     "output_type": "stream",
     "text": [
      "      Date  Temperature  Humidity       AQI\n",
      "2024-07-01    23.820262 78.717101 77.058130\n",
      "2024-07-02    17.000786 67.949514 76.725743\n",
      "2024-07-03    19.893690 47.688762 77.016040\n",
      "2024-07-04    26.204466 66.831751 96.624885\n",
      "2024-07-05    24.337790 27.096466 80.909218\n",
      "2024-07-06    10.113611 58.395261 61.570474\n",
      "2024-07-07    19.750442 28.601197 66.221917\n",
      "2024-07-08    14.243214 76.680135 81.857872\n",
      "2024-07-09    14.483906 51.310899 43.613528\n",
      "2024-07-10    17.052993 44.879716 80.006003\n",
      "2024-07-11    15.720218 35.873337 80.238272\n",
      "2024-07-12    22.271368 66.454021 52.622954\n",
      "2024-07-13    18.805189 47.369020 47.735578\n",
      "2024-07-14    15.608375 54.106037 58.925701\n",
      "2024-07-15    17.219316 21.127388 61.822646\n"
     ]
    }
   ],
   "source": [
    "print(df.to_string(index=False))"
   ]
  },
  {
   "cell_type": "markdown",
   "id": "74de2a64",
   "metadata": {},
   "source": [
    "# Saving and Loading to CSV"
   ]
  },
  {
   "cell_type": "code",
   "execution_count": 21,
   "id": "3519339f",
   "metadata": {},
   "outputs": [],
   "source": [
    "# Save to CSV\n",
    "df.to_csv(\"city_weather.csv\", index=False)"
   ]
  },
  {
   "cell_type": "code",
   "execution_count": 22,
   "id": "98acf35d",
   "metadata": {},
   "outputs": [],
   "source": [
    "# Load the dataset\n",
    "df = pd.read_csv(\"city_weather.csv\")"
   ]
  },
  {
   "cell_type": "code",
   "execution_count": 28,
   "id": "6a8a55b0",
   "metadata": {},
   "outputs": [
    {
     "data": {
      "text/html": [
       "<div>\n",
       "<style scoped>\n",
       "    .dataframe tbody tr th:only-of-type {\n",
       "        vertical-align: middle;\n",
       "    }\n",
       "\n",
       "    .dataframe tbody tr th {\n",
       "        vertical-align: top;\n",
       "    }\n",
       "\n",
       "    .dataframe thead th {\n",
       "        text-align: right;\n",
       "    }\n",
       "</style>\n",
       "<table border=\"1\" class=\"dataframe\">\n",
       "  <thead>\n",
       "    <tr style=\"text-align: right;\">\n",
       "      <th></th>\n",
       "      <th>Date</th>\n",
       "      <th>Temperature</th>\n",
       "      <th>Humidity</th>\n",
       "      <th>AQI</th>\n",
       "    </tr>\n",
       "  </thead>\n",
       "  <tbody>\n",
       "    <tr>\n",
       "      <th>0</th>\n",
       "      <td>2024-07-01</td>\n",
       "      <td>23.820262</td>\n",
       "      <td>78.717101</td>\n",
       "      <td>77.058130</td>\n",
       "    </tr>\n",
       "    <tr>\n",
       "      <th>1</th>\n",
       "      <td>2024-07-02</td>\n",
       "      <td>17.000786</td>\n",
       "      <td>67.949514</td>\n",
       "      <td>76.725743</td>\n",
       "    </tr>\n",
       "    <tr>\n",
       "      <th>2</th>\n",
       "      <td>2024-07-03</td>\n",
       "      <td>19.893690</td>\n",
       "      <td>47.688762</td>\n",
       "      <td>77.016040</td>\n",
       "    </tr>\n",
       "    <tr>\n",
       "      <th>3</th>\n",
       "      <td>2024-07-04</td>\n",
       "      <td>26.204466</td>\n",
       "      <td>66.831751</td>\n",
       "      <td>96.624885</td>\n",
       "    </tr>\n",
       "    <tr>\n",
       "      <th>4</th>\n",
       "      <td>2024-07-05</td>\n",
       "      <td>24.337790</td>\n",
       "      <td>27.096466</td>\n",
       "      <td>80.909218</td>\n",
       "    </tr>\n",
       "    <tr>\n",
       "      <th>5</th>\n",
       "      <td>2024-07-06</td>\n",
       "      <td>10.113611</td>\n",
       "      <td>58.395261</td>\n",
       "      <td>61.570474</td>\n",
       "    </tr>\n",
       "    <tr>\n",
       "      <th>6</th>\n",
       "      <td>2024-07-07</td>\n",
       "      <td>19.750442</td>\n",
       "      <td>28.601197</td>\n",
       "      <td>66.221917</td>\n",
       "    </tr>\n",
       "    <tr>\n",
       "      <th>7</th>\n",
       "      <td>2024-07-08</td>\n",
       "      <td>14.243214</td>\n",
       "      <td>76.680135</td>\n",
       "      <td>81.857872</td>\n",
       "    </tr>\n",
       "    <tr>\n",
       "      <th>8</th>\n",
       "      <td>2024-07-09</td>\n",
       "      <td>14.483906</td>\n",
       "      <td>51.310899</td>\n",
       "      <td>43.613528</td>\n",
       "    </tr>\n",
       "    <tr>\n",
       "      <th>9</th>\n",
       "      <td>2024-07-10</td>\n",
       "      <td>17.052993</td>\n",
       "      <td>44.879716</td>\n",
       "      <td>80.006003</td>\n",
       "    </tr>\n",
       "    <tr>\n",
       "      <th>10</th>\n",
       "      <td>2024-07-11</td>\n",
       "      <td>15.720218</td>\n",
       "      <td>35.873337</td>\n",
       "      <td>80.238272</td>\n",
       "    </tr>\n",
       "    <tr>\n",
       "      <th>11</th>\n",
       "      <td>2024-07-12</td>\n",
       "      <td>22.271368</td>\n",
       "      <td>66.454021</td>\n",
       "      <td>52.622954</td>\n",
       "    </tr>\n",
       "    <tr>\n",
       "      <th>12</th>\n",
       "      <td>2024-07-13</td>\n",
       "      <td>18.805189</td>\n",
       "      <td>47.369020</td>\n",
       "      <td>47.735578</td>\n",
       "    </tr>\n",
       "    <tr>\n",
       "      <th>13</th>\n",
       "      <td>2024-07-14</td>\n",
       "      <td>15.608375</td>\n",
       "      <td>54.106037</td>\n",
       "      <td>58.925701</td>\n",
       "    </tr>\n",
       "    <tr>\n",
       "      <th>14</th>\n",
       "      <td>2024-07-15</td>\n",
       "      <td>17.219316</td>\n",
       "      <td>21.127388</td>\n",
       "      <td>61.822646</td>\n",
       "    </tr>\n",
       "  </tbody>\n",
       "</table>\n",
       "</div>"
      ],
      "text/plain": [
       "         Date  Temperature   Humidity        AQI\n",
       "0  2024-07-01    23.820262  78.717101  77.058130\n",
       "1  2024-07-02    17.000786  67.949514  76.725743\n",
       "2  2024-07-03    19.893690  47.688762  77.016040\n",
       "3  2024-07-04    26.204466  66.831751  96.624885\n",
       "4  2024-07-05    24.337790  27.096466  80.909218\n",
       "5  2024-07-06    10.113611  58.395261  61.570474\n",
       "6  2024-07-07    19.750442  28.601197  66.221917\n",
       "7  2024-07-08    14.243214  76.680135  81.857872\n",
       "8  2024-07-09    14.483906  51.310899  43.613528\n",
       "9  2024-07-10    17.052993  44.879716  80.006003\n",
       "10 2024-07-11    15.720218  35.873337  80.238272\n",
       "11 2024-07-12    22.271368  66.454021  52.622954\n",
       "12 2024-07-13    18.805189  47.369020  47.735578\n",
       "13 2024-07-14    15.608375  54.106037  58.925701\n",
       "14 2024-07-15    17.219316  21.127388  61.822646"
      ]
     },
     "execution_count": 28,
     "metadata": {},
     "output_type": "execute_result"
    }
   ],
   "source": [
    "# Convert the Date column to datetime format\n",
    "df['Date'] = pd.to_datetime(df['Date'])\n",
    "df"
   ]
  },
  {
   "cell_type": "code",
   "execution_count": 33,
   "id": "5473f5a3",
   "metadata": {},
   "outputs": [
    {
     "ename": "KeyError",
     "evalue": "\"None of ['Date'] are in the columns\"",
     "output_type": "error",
     "traceback": [
      "\u001b[1;31m---------------------------------------------------------------------------\u001b[0m",
      "\u001b[1;31mKeyError\u001b[0m                                  Traceback (most recent call last)",
      "Cell \u001b[1;32mIn[33], line 2\u001b[0m\n\u001b[0;32m      1\u001b[0m \u001b[38;5;66;03m# Set the Date column as the index\u001b[39;00m\n\u001b[1;32m----> 2\u001b[0m df\u001b[38;5;241m.\u001b[39mset_index(\u001b[38;5;124m'\u001b[39m\u001b[38;5;124mDate\u001b[39m\u001b[38;5;124m'\u001b[39m, inplace\u001b[38;5;241m=\u001b[39m\u001b[38;5;28;01mTrue\u001b[39;00m)\n\u001b[0;32m      3\u001b[0m df\n",
      "File \u001b[1;32m~\\anaconda3\\Lib\\site-packages\\pandas\\util\\_decorators.py:331\u001b[0m, in \u001b[0;36mdeprecate_nonkeyword_arguments.<locals>.decorate.<locals>.wrapper\u001b[1;34m(*args, **kwargs)\u001b[0m\n\u001b[0;32m    325\u001b[0m \u001b[38;5;28;01mif\u001b[39;00m \u001b[38;5;28mlen\u001b[39m(args) \u001b[38;5;241m>\u001b[39m num_allow_args:\n\u001b[0;32m    326\u001b[0m     warnings\u001b[38;5;241m.\u001b[39mwarn(\n\u001b[0;32m    327\u001b[0m         msg\u001b[38;5;241m.\u001b[39mformat(arguments\u001b[38;5;241m=\u001b[39m_format_argument_list(allow_args)),\n\u001b[0;32m    328\u001b[0m         \u001b[38;5;167;01mFutureWarning\u001b[39;00m,\n\u001b[0;32m    329\u001b[0m         stacklevel\u001b[38;5;241m=\u001b[39mfind_stack_level(),\n\u001b[0;32m    330\u001b[0m     )\n\u001b[1;32m--> 331\u001b[0m \u001b[38;5;28;01mreturn\u001b[39;00m func(\u001b[38;5;241m*\u001b[39margs, \u001b[38;5;241m*\u001b[39m\u001b[38;5;241m*\u001b[39mkwargs)\n",
      "File \u001b[1;32m~\\anaconda3\\Lib\\site-packages\\pandas\\core\\frame.py:6012\u001b[0m, in \u001b[0;36mDataFrame.set_index\u001b[1;34m(self, keys, drop, append, inplace, verify_integrity)\u001b[0m\n\u001b[0;32m   6009\u001b[0m                 missing\u001b[38;5;241m.\u001b[39mappend(col)\n\u001b[0;32m   6011\u001b[0m \u001b[38;5;28;01mif\u001b[39;00m missing:\n\u001b[1;32m-> 6012\u001b[0m     \u001b[38;5;28;01mraise\u001b[39;00m \u001b[38;5;167;01mKeyError\u001b[39;00m(\u001b[38;5;124mf\u001b[39m\u001b[38;5;124m\"\u001b[39m\u001b[38;5;124mNone of \u001b[39m\u001b[38;5;132;01m{\u001b[39;00mmissing\u001b[38;5;132;01m}\u001b[39;00m\u001b[38;5;124m are in the columns\u001b[39m\u001b[38;5;124m\"\u001b[39m)\n\u001b[0;32m   6014\u001b[0m \u001b[38;5;28;01mif\u001b[39;00m inplace:\n\u001b[0;32m   6015\u001b[0m     frame \u001b[38;5;241m=\u001b[39m \u001b[38;5;28mself\u001b[39m\n",
      "\u001b[1;31mKeyError\u001b[0m: \"None of ['Date'] are in the columns\""
     ]
    }
   ],
   "source": [
    "# Set the Date column as the index\n",
    "df.set_index('Date', inplace=True)"
   ]
  },
  {
   "cell_type": "code",
   "execution_count": 34,
   "id": "7c129036",
   "metadata": {},
   "outputs": [
    {
     "name": "stdout",
     "output_type": "stream",
     "text": [
      "Index(['Temperature', 'Humidity', 'AQI'], dtype='object')\n",
      "            Temperature   Humidity        AQI\n",
      "Date                                         \n",
      "2024-07-01    23.820262  78.717101  77.058130\n",
      "2024-07-02    17.000786  67.949514  76.725743\n",
      "2024-07-03    19.893690  47.688762  77.016040\n",
      "2024-07-04    26.204466  66.831751  96.624885\n",
      "2024-07-05    24.337790  27.096466  80.909218\n",
      "2024-07-06    10.113611  58.395261  61.570474\n",
      "2024-07-07    19.750442  28.601197  66.221917\n",
      "2024-07-08    14.243214  76.680135  81.857872\n",
      "2024-07-09    14.483906  51.310899  43.613528\n",
      "2024-07-10    17.052993  44.879716  80.006003\n",
      "2024-07-11    15.720218  35.873337  80.238272\n",
      "2024-07-12    22.271368  66.454021  52.622954\n",
      "2024-07-13    18.805189  47.369020  47.735578\n",
      "2024-07-14    15.608375  54.106037  58.925701\n",
      "2024-07-15    17.219316  21.127388  61.822646\n"
     ]
    }
   ],
   "source": [
    "# Keyerror resolved\n",
    "# Check if 'Date' column exists\n",
    "print(df.columns)\n",
    "# Ensure 'Date' column is properly set before setting it as the index\n",
    "if 'Date' in df.columns:\n",
    "    # Set the Date column as the index\n",
    "    df.set_index('Date', inplace=True)\n",
    "print(df)"
   ]
  },
  {
   "cell_type": "code",
   "execution_count": 25,
   "id": "0f6dacee",
   "metadata": {},
   "outputs": [
    {
     "name": "stdout",
     "output_type": "stream",
     "text": [
      "         Date  Temperature   Humidity        AQI\n",
      "0  2024-07-01    23.820262  78.717101  77.058130\n",
      "1  2024-07-02    17.000786  67.949514  76.725743\n",
      "2  2024-07-03    19.893690  47.688762  77.016040\n",
      "3  2024-07-04    26.204466  66.831751  96.624885\n",
      "4  2024-07-05    24.337790  27.096466  80.909218\n"
     ]
    }
   ],
   "source": [
    "# Display the first five rows of the DataFrame\n",
    "print(df.head())"
   ]
  },
  {
   "cell_type": "code",
   "execution_count": 35,
   "id": "3cae42ad",
   "metadata": {},
   "outputs": [
    {
     "data": {
      "text/html": [
       "<div>\n",
       "<style scoped>\n",
       "    .dataframe tbody tr th:only-of-type {\n",
       "        vertical-align: middle;\n",
       "    }\n",
       "\n",
       "    .dataframe tbody tr th {\n",
       "        vertical-align: top;\n",
       "    }\n",
       "\n",
       "    .dataframe thead th {\n",
       "        text-align: right;\n",
       "    }\n",
       "</style>\n",
       "<table border=\"1\" class=\"dataframe\">\n",
       "  <thead>\n",
       "    <tr style=\"text-align: right;\">\n",
       "      <th></th>\n",
       "      <th>Temperature</th>\n",
       "      <th>Humidity</th>\n",
       "      <th>AQI</th>\n",
       "    </tr>\n",
       "  </thead>\n",
       "  <tbody>\n",
       "    <tr>\n",
       "      <th>count</th>\n",
       "      <td>15.000000</td>\n",
       "      <td>15.000000</td>\n",
       "      <td>15.000000</td>\n",
       "    </tr>\n",
       "    <tr>\n",
       "      <th>mean</th>\n",
       "      <td>18.435042</td>\n",
       "      <td>51.538707</td>\n",
       "      <td>69.529931</td>\n",
       "    </tr>\n",
       "    <tr>\n",
       "      <th>std</th>\n",
       "      <td>4.360160</td>\n",
       "      <td>17.969072</td>\n",
       "      <td>14.840009</td>\n",
       "    </tr>\n",
       "    <tr>\n",
       "      <th>min</th>\n",
       "      <td>10.113611</td>\n",
       "      <td>21.127388</td>\n",
       "      <td>43.613528</td>\n",
       "    </tr>\n",
       "    <tr>\n",
       "      <th>25%</th>\n",
       "      <td>15.664296</td>\n",
       "      <td>40.376527</td>\n",
       "      <td>60.248088</td>\n",
       "    </tr>\n",
       "    <tr>\n",
       "      <th>50%</th>\n",
       "      <td>17.219316</td>\n",
       "      <td>51.310899</td>\n",
       "      <td>76.725743</td>\n",
       "    </tr>\n",
       "    <tr>\n",
       "      <th>75%</th>\n",
       "      <td>21.082529</td>\n",
       "      <td>66.642886</td>\n",
       "      <td>80.122138</td>\n",
       "    </tr>\n",
       "    <tr>\n",
       "      <th>max</th>\n",
       "      <td>26.204466</td>\n",
       "      <td>78.717101</td>\n",
       "      <td>96.624885</td>\n",
       "    </tr>\n",
       "  </tbody>\n",
       "</table>\n",
       "</div>"
      ],
      "text/plain": [
       "       Temperature   Humidity        AQI\n",
       "count    15.000000  15.000000  15.000000\n",
       "mean     18.435042  51.538707  69.529931\n",
       "std       4.360160  17.969072  14.840009\n",
       "min      10.113611  21.127388  43.613528\n",
       "25%      15.664296  40.376527  60.248088\n",
       "50%      17.219316  51.310899  76.725743\n",
       "75%      21.082529  66.642886  80.122138\n",
       "max      26.204466  78.717101  96.624885"
      ]
     },
     "execution_count": 35,
     "metadata": {},
     "output_type": "execute_result"
    }
   ],
   "source": [
    "# checking summery\n",
    "df.describe()"
   ]
  },
  {
   "cell_type": "code",
   "execution_count": 36,
   "id": "5257305d",
   "metadata": {},
   "outputs": [
    {
     "name": "stdout",
     "output_type": "stream",
     "text": [
      "            Temperature   Humidity        AQI\n",
      "Date                                         \n",
      "2024-07-31    18.435042  51.538707  69.529931\n"
     ]
    }
   ],
   "source": [
    "# Resample data by month and calculate mean values\n",
    "monthly_data = df.resample('M').mean()\n",
    "print(monthly_data)"
   ]
  },
  {
   "cell_type": "markdown",
   "id": "acbe77d8",
   "metadata": {},
   "source": [
    "# Seven-day moving average"
   ]
  },
  {
   "cell_type": "code",
   "execution_count": 39,
   "id": "ab0c4ce2",
   "metadata": {},
   "outputs": [
    {
     "data": {
      "text/html": [
       "<div>\n",
       "<style scoped>\n",
       "    .dataframe tbody tr th:only-of-type {\n",
       "        vertical-align: middle;\n",
       "    }\n",
       "\n",
       "    .dataframe tbody tr th {\n",
       "        vertical-align: top;\n",
       "    }\n",
       "\n",
       "    .dataframe thead th {\n",
       "        text-align: right;\n",
       "    }\n",
       "</style>\n",
       "<table border=\"1\" class=\"dataframe\">\n",
       "  <thead>\n",
       "    <tr style=\"text-align: right;\">\n",
       "      <th></th>\n",
       "      <th>Temperature</th>\n",
       "      <th>Humidity</th>\n",
       "      <th>AQI</th>\n",
       "      <th>7-Day Moving Average</th>\n",
       "    </tr>\n",
       "    <tr>\n",
       "      <th>Date</th>\n",
       "      <th></th>\n",
       "      <th></th>\n",
       "      <th></th>\n",
       "      <th></th>\n",
       "    </tr>\n",
       "  </thead>\n",
       "  <tbody>\n",
       "    <tr>\n",
       "      <th>2024-07-01</th>\n",
       "      <td>23.820262</td>\n",
       "      <td>78.717101</td>\n",
       "      <td>77.058130</td>\n",
       "      <td>NaN</td>\n",
       "    </tr>\n",
       "    <tr>\n",
       "      <th>2024-07-02</th>\n",
       "      <td>17.000786</td>\n",
       "      <td>67.949514</td>\n",
       "      <td>76.725743</td>\n",
       "      <td>NaN</td>\n",
       "    </tr>\n",
       "    <tr>\n",
       "      <th>2024-07-03</th>\n",
       "      <td>19.893690</td>\n",
       "      <td>47.688762</td>\n",
       "      <td>77.016040</td>\n",
       "      <td>NaN</td>\n",
       "    </tr>\n",
       "    <tr>\n",
       "      <th>2024-07-04</th>\n",
       "      <td>26.204466</td>\n",
       "      <td>66.831751</td>\n",
       "      <td>96.624885</td>\n",
       "      <td>NaN</td>\n",
       "    </tr>\n",
       "    <tr>\n",
       "      <th>2024-07-05</th>\n",
       "      <td>24.337790</td>\n",
       "      <td>27.096466</td>\n",
       "      <td>80.909218</td>\n",
       "      <td>NaN</td>\n",
       "    </tr>\n",
       "    <tr>\n",
       "      <th>2024-07-06</th>\n",
       "      <td>10.113611</td>\n",
       "      <td>58.395261</td>\n",
       "      <td>61.570474</td>\n",
       "      <td>NaN</td>\n",
       "    </tr>\n",
       "    <tr>\n",
       "      <th>2024-07-07</th>\n",
       "      <td>19.750442</td>\n",
       "      <td>28.601197</td>\n",
       "      <td>66.221917</td>\n",
       "      <td>20.160149</td>\n",
       "    </tr>\n",
       "    <tr>\n",
       "      <th>2024-07-08</th>\n",
       "      <td>14.243214</td>\n",
       "      <td>76.680135</td>\n",
       "      <td>81.857872</td>\n",
       "      <td>18.792000</td>\n",
       "    </tr>\n",
       "    <tr>\n",
       "      <th>2024-07-09</th>\n",
       "      <td>14.483906</td>\n",
       "      <td>51.310899</td>\n",
       "      <td>43.613528</td>\n",
       "      <td>18.432445</td>\n",
       "    </tr>\n",
       "    <tr>\n",
       "      <th>2024-07-10</th>\n",
       "      <td>17.052993</td>\n",
       "      <td>44.879716</td>\n",
       "      <td>80.006003</td>\n",
       "      <td>18.026632</td>\n",
       "    </tr>\n",
       "    <tr>\n",
       "      <th>2024-07-11</th>\n",
       "      <td>15.720218</td>\n",
       "      <td>35.873337</td>\n",
       "      <td>80.238272</td>\n",
       "      <td>16.528882</td>\n",
       "    </tr>\n",
       "    <tr>\n",
       "      <th>2024-07-12</th>\n",
       "      <td>22.271368</td>\n",
       "      <td>66.454021</td>\n",
       "      <td>52.622954</td>\n",
       "      <td>16.233679</td>\n",
       "    </tr>\n",
       "    <tr>\n",
       "      <th>2024-07-13</th>\n",
       "      <td>18.805189</td>\n",
       "      <td>47.369020</td>\n",
       "      <td>47.735578</td>\n",
       "      <td>17.475333</td>\n",
       "    </tr>\n",
       "    <tr>\n",
       "      <th>2024-07-14</th>\n",
       "      <td>15.608375</td>\n",
       "      <td>54.106037</td>\n",
       "      <td>58.925701</td>\n",
       "      <td>16.883609</td>\n",
       "    </tr>\n",
       "    <tr>\n",
       "      <th>2024-07-15</th>\n",
       "      <td>17.219316</td>\n",
       "      <td>21.127388</td>\n",
       "      <td>61.822646</td>\n",
       "      <td>17.308766</td>\n",
       "    </tr>\n",
       "  </tbody>\n",
       "</table>\n",
       "</div>"
      ],
      "text/plain": [
       "            Temperature   Humidity        AQI  7-Day Moving Average\n",
       "Date                                                               \n",
       "2024-07-01    23.820262  78.717101  77.058130                   NaN\n",
       "2024-07-02    17.000786  67.949514  76.725743                   NaN\n",
       "2024-07-03    19.893690  47.688762  77.016040                   NaN\n",
       "2024-07-04    26.204466  66.831751  96.624885                   NaN\n",
       "2024-07-05    24.337790  27.096466  80.909218                   NaN\n",
       "2024-07-06    10.113611  58.395261  61.570474                   NaN\n",
       "2024-07-07    19.750442  28.601197  66.221917             20.160149\n",
       "2024-07-08    14.243214  76.680135  81.857872             18.792000\n",
       "2024-07-09    14.483906  51.310899  43.613528             18.432445\n",
       "2024-07-10    17.052993  44.879716  80.006003             18.026632\n",
       "2024-07-11    15.720218  35.873337  80.238272             16.528882\n",
       "2024-07-12    22.271368  66.454021  52.622954             16.233679\n",
       "2024-07-13    18.805189  47.369020  47.735578             17.475333\n",
       "2024-07-14    15.608375  54.106037  58.925701             16.883609\n",
       "2024-07-15    17.219316  21.127388  61.822646             17.308766"
      ]
     },
     "execution_count": 39,
     "metadata": {},
     "output_type": "execute_result"
    }
   ],
   "source": [
    "# Calculate the 7-day moving average\n",
    "df['7-Day Moving Average'] = df['Temperature'].rolling(window=7).mean()\n",
    "df"
   ]
  },
  {
   "cell_type": "markdown",
   "id": "8e1c72e3",
   "metadata": {},
   "source": [
    "# Visualization"
   ]
  },
  {
   "cell_type": "code",
   "execution_count": 43,
   "id": "60175392",
   "metadata": {},
   "outputs": [
    {
     "data": {
      "image/png": "[encoded data removed]",
      "text/plain": [
       "<Figure size 800x400 with 1 Axes>"
      ]
     },
     "metadata": {},
     "output_type": "display_data"
    }
   ],
   "source": [
    "import matplotlib.pyplot as plt\n",
    "\n",
    "# Plot temperature and its 7-day moving average\n",
    "plt.figure(figsize=(8, 4))\n",
    "plt.plot(df.index, df['Temperature'], label='Daily Temperature')\n",
    "plt.plot(df.index, df['7-Day Moving Average'], label='7-Day Moving Average', linestyle='--')\n",
    "plt.xlabel('Date')\n",
    "plt.ylabel('Temperature (°C)')\n",
    "plt.title('Daily Temperature and 7-Day Moving Average')\n",
    "plt.legend()\n",
    "plt.show()"
   ]
  },
  {
   "cell_type": "markdown",
   "id": "c1278a18",
   "metadata": {},
   "source": [
    "# Bar Plot of Average AQI for Each Month"
   ]
  },
  {
   "cell_type": "code",
   "execution_count": 44,
   "id": "9f6e252a",
   "metadata": {},
   "outputs": [
    {
     "data": {
      "image/png": "[encoded data removed]",
      "text/plain": [
       "<Figure size 800x300 with 1 Axes>"
      ]
     },
     "metadata": {},
     "output_type": "display_data"
    }
   ],
   "source": [
    "# Plot the average AQI for each month\n",
    "monthly_aqi = df['AQI'].resample('M').mean()\n",
    "monthly_aqi.plot(kind='bar', figsize=(8, 3))\n",
    "plt.xlabel('Month')\n",
    "plt.ylabel('Average AQI')\n",
    "plt.title('Average AQI for Each Month')\n",
    "plt.show()\n"
   ]
  },
  {
   "cell_type": "markdown",
   "id": "d7a3da45",
   "metadata": {},
   "source": [
    "# Scatter Plot of Temperature and AQI"
   ]
  },
  {
   "cell_type": "code",
   "execution_count": 47,
   "id": "232e44fa",
   "metadata": {},
   "outputs": [
    {
     "data": {
      "image/png": "[encoded data removed]",
      "text/plain": [
       "<Figure size 600x300 with 1 Axes>"
      ]
     },
     "metadata": {},
     "output_type": "display_data"
    }
   ],
   "source": [
    "# Scatter plot of temperature vs AQI\n",
    "plt.figure(figsize=(6, 3))\n",
    "plt.scatter(df['Temperature'], df['AQI'], alpha=0.5)\n",
    "plt.xlabel('Temperature (°C)')\n",
    "plt.ylabel('AQI')\n",
    "plt.title('Scatter Plot of Temperature and AQI')\n",
    "\n",
    "# Fit a polynomial trend line\n",
    "z = np.polyfit(df['Temperature'], df['AQI'], 1)\n",
    "p = np.poly1d(z)\n",
    "plt.plot(df['Temperature'], p(df['Temperature']), \"r--\")\n",
    "\n",
    "plt.show()"
   ]
  },
  {
   "cell_type": "markdown",
   "id": "72e5d380",
   "metadata": {},
   "source": [
    "# Correlation Between Temperature, Humidity, and AQI"
   ]
  },
  {
   "cell_type": "code",
   "execution_count": 48,
   "id": "86063f8b",
   "metadata": {},
   "outputs": [
    {
     "name": "stdout",
     "output_type": "stream",
     "text": [
      "             Temperature  Humidity       AQI\n",
      "Temperature     1.000000  0.033875  0.391110\n",
      "Humidity        0.033875  1.000000  0.154184\n",
      "AQI             0.391110  0.154184  1.000000\n"
     ]
    }
   ],
   "source": [
    "# Calculate correlation matrix\n",
    "correlation_matrix = df[['Temperature', 'Humidity', 'AQI']].corr()\n",
    "print(correlation_matrix)"
   ]
  },
  {
   "cell_type": "code",
   "execution_count": 51,
   "id": "202edd3c",
   "metadata": {},
   "outputs": [
    {
     "data": {
      "text/plain": [
       "<function matplotlib.pyplot.title(label, fontdict=None, loc=None, pad=None, *, y=None, **kwargs)>"
      ]
     },
     "execution_count": 51,
     "metadata": {},
     "output_type": "execute_result"
    },
    {
     "data": {
      "image/png": "[encoded data removed]",
      "text/plain": [
       "<Figure size 800x300 with 2 Axes>"
      ]
     },
     "metadata": {},
     "output_type": "display_data"
    }
   ],
   "source": [
    "# Visualize the correlation matrix\n",
    "import seaborn as sns\n",
    "\n",
    "plt.figure(figsize=(8, 3))\n",
    "sns.heatmap(correlation_matrix, annot=True, cmap='coolwarm', vmin=-1, vmax=1)\n",
    "plt.title"
   ]
  }
 ],
 "metadata": {
  "kernelspec": {
   "display_name": "Python 3 (ipykernel)",
   "language": "python",
   "name": "python3"
  },
  "language_info": {
   "codemirror_mode": {
    "name": "ipython",
    "version": 3
   },
   "file_extension": ".py",
   "mimetype": "text/x-python",
   "name": "python",
   "nbconvert_exporter": "python",
   "pygments_lexer": "ipython3",
   "version": "3.11.9"
  },
  "toc": {
   "base_numbering": 1,
   "nav_menu": {},
   "number_sections": true,
   "sideBar": true,
   "skip_h1_title": false,
   "title_cell": "Table of Contents",
   "title_sidebar": "Contents",
   "toc_cell": false,
   "toc_position": {},
   "toc_section_display": true,
   "toc_window_display": false
  }
 },
 "nbformat": 4,
 "nbformat_minor": 5
}
